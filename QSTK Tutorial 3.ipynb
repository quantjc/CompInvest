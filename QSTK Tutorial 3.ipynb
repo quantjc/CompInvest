{
 "cells": [
  {
   "cell_type": "markdown",
   "metadata": {},
   "source": [
    "## Tips for accessing historical data\n",
    "This tutorial focuses on some of the nitty-gritty details of reading in historical data. In many cases you'll want to configure some information such as a list of symbols to work on in an input file, then read those in and operate on them in some way. \n",
    "Note: This example computes the performance of a portfolio that assumes daily rebalancing because it makes the back test a little easier. Daily rebalancing may not be possible or appropriate for all applications. (Homework 1 for the coursera course requires \"buy and hold\" and not daily rebalancing)."
   ]
  },
  {
   "cell_type": "code",
   "execution_count": 1,
   "metadata": {
    "collapsed": true
   },
   "outputs": [],
   "source": [
    "import QSTK.qstkutil.qsdateutil as du\n",
    "import QSTK.qstkutil.tsutil as tsu\n",
    "import QSTK.qstkutil.DataAccess as da\n",
    "import datetime as dt\n",
    "import matplotlib.pyplot as plt\n",
    "import pandas as pd\n",
    "import numpy as np"
   ]
  },
  {
   "cell_type": "markdown",
   "metadata": {},
   "source": [
    "## The data describing a portfolio\n",
    "The general idea is that we have a portfolio described in a CSV file (QSTK/Examples/tutorial3portfolio.csv). And we'd like to see how that portfolio would have performed if we had held it in the past. Here's the file describing the portfolio:"
   ]
  },
  {
   "cell_type": "markdown",
   "metadata": {},
   "source": [
    ">symbol, allocation\n",
    "<p>SPY,0.3\n",
    "<p>GABBABOOM,0.2\n",
    "<p>GLD,0.3\n",
    "<p>7ABBA, 0.2"
   ]
  },
  {
   "cell_type": "markdown",
   "metadata": {},
   "source": [
    "## Reading in the portfolio description"
   ]
  },
  {
   "cell_type": "code",
   "execution_count": 5,
   "metadata": {
    "collapsed": false
   },
   "outputs": [
    {
     "name": "stdout",
     "output_type": "stream",
     "text": [
      "[('SPY', 0.30000001192092896) ('GABBA', 0.20000000298023224)\n",
      " ('GLD', 0.30000001192092896) ('7ABBA', 0.20000000298023224)]\n"
     ]
    }
   ],
   "source": [
    "na_portfolio = np.loadtxt('tutorial3portfolio.csv', dtype='S5,f4',\n",
    "                        delimiter=',', comments=\"#\", skiprows=1)\n",
    "print na_portfolio"
   ]
  },
  {
   "cell_type": "markdown",
   "metadata": {},
   "source": [
    "The second line (dtype=) defines the format for each column. I think the other arguments are self explanatory. \n",
    "<p>\n",
    "Later on it will be helpful if our data is sorted by symbol name, so we'll do that next:"
   ]
  },
  {
   "cell_type": "code",
   "execution_count": 6,
   "metadata": {
    "collapsed": false
   },
   "outputs": [
    {
     "name": "stdout",
     "output_type": "stream",
     "text": [
      "[('7ABBA', 0.20000000298023224), ('GABBA', 0.20000000298023224), ('GLD', 0.30000001192092896), ('SPY', 0.30000001192092896)]\n"
     ]
    }
   ],
   "source": [
    "na_portfolio = sorted(na_portfolio, key=lambda x: x[0])\n",
    "print na_portfolio"
   ]
  },
  {
   "cell_type": "markdown",
   "metadata": {},
   "source": [
    "Now we build two lists, one that contains the symbols and one that contains the allocations:"
   ]
  },
  {
   "cell_type": "code",
   "execution_count": 11,
   "metadata": {
    "collapsed": false
   },
   "outputs": [],
   "source": [
    "ls_port_syms = []\n",
    "lf_port_alloc = []\n",
    "for port in na_portfolio:\n",
    "    ls_port_syms.append(port[0])\n",
    "    lf_port_alloc.append(port[1])"
   ]
  },
  {
   "cell_type": "markdown",
   "metadata": {},
   "source": [
    "## Checking for spurious symbols and removing them\n",
    "Now we're going to benefit from the horsepower of our DataAccess class and Python's set operations. First step is to see which symbols are available, then intersect that list with the symbols in our portfolio:\n"
   ]
  },
  {
   "cell_type": "code",
   "execution_count": 15,
   "metadata": {
    "collapsed": false
   },
   "outputs": [],
   "source": [
    "c_dataobj = da.DataAccess('Yahoo')\n",
    "ls_all_syms = c_dataobj.get_all_symbols()\n",
    "ls_bad_syms = list(set(ls_port_syms) - set(ls_all_syms))"
   ]
  },
  {
   "cell_type": "markdown",
   "metadata": {},
   "source": [
    "The second line above returns a list of all symbols available to us in the \"Yahoo\" data store. On the third line above we convert the list of all symbols, and the list of symbols in our portfolio into sets, then remove the symbols not present in the ls_all_syms but present in the ls_port_syms. These are the bad symbols."
   ]
  },
  {
   "cell_type": "code",
   "execution_count": 16,
   "metadata": {
    "collapsed": false
   },
   "outputs": [
    {
     "name": "stdout",
     "output_type": "stream",
     "text": [
      "Porfolio contains bad symbols:  ['7ABBA', 'GABBA']\n"
     ]
    }
   ],
   "source": [
    "if len(ls_bad_syms) != 0:\n",
    "    print \"Porfolio contains bad symbols: \", ls_bad_syms"
   ]
  },
  {
   "cell_type": "markdown",
   "metadata": {},
   "source": [
    "Now we'll remove those bad symbols from our portfolio:\n"
   ]
  },
  {
   "cell_type": "code",
   "execution_count": 17,
   "metadata": {
    "collapsed": true
   },
   "outputs": [],
   "source": [
    "for s_sym in ls_bad_syms:\n",
    "    i_index = ls_port_syms.index(s_sym)\n",
    "    ls_port_syms.pop(i_index)\n",
    "    lf_port_alloc.pop(i_index)"
   ]
  },
  {
   "cell_type": "markdown",
   "metadata": {},
   "source": [
    "## Configuring times and reading the data\n",
    "The list portsyms now contains the proper list of valid symbols, so we can ask DataAccess to return them for us with out blowing up. First we must set up the time boundaries as below:"
   ]
  },
  {
   "cell_type": "code",
   "execution_count": 19,
   "metadata": {
    "collapsed": false
   },
   "outputs": [],
   "source": [
    "dt_end = dt.datetime(2011, 1, 1)\n",
    "dt_start = dt_end - dt.timedelta(days=1095)  # Three years\n",
    "dt_timeofday = dt.timedelta(hours=16)\n",
    "\n",
    "ldt_timestamps = du.getNYSEdays(dt_start, dt_end, dt_timeofday)\n",
    "\n",
    "ls_keys = ['open', 'high', 'low', 'close', 'volume', 'actual_close']\n",
    "\n",
    "ldf_data = c_dataobj.get_data(ldt_timestamps, ls_port_syms, ls_keys)\n",
    "d_data = dict(zip(ls_keys, ldf_data))"
   ]
  },
  {
   "cell_type": "markdown",
   "metadata": {},
   "source": [
    "The code above reads in the data for the symbols in our portfolio between the dates of Jan 1, 2011, back to 1095 days before that (3 years)."
   ]
  },
  {
   "cell_type": "markdown",
   "metadata": {},
   "source": [
    "## Now, a quick and dirty back test\n",
    "Note: this example computes portfolio returns assuming daily rebalancing. For coursera homework 1, you should not assume daily rebalancing.\n",
    "The first step is to prep the data. We make a copy of our closing prices in to \"rets\", fill the data forward, then convert it into daily returns:"
   ]
  },
  {
   "cell_type": "code",
   "execution_count": 22,
   "metadata": {
    "collapsed": false
   },
   "outputs": [
    {
     "data": {
      "text/plain": [
       "array([[ 0.        ,  0.        ],\n",
       "       [ 0.00836672, -0.00045403],\n",
       "       [-0.00514199, -0.02452873],\n",
       "       ..., \n",
       "       [ 0.00357091,  0.00073728],\n",
       "       [-0.00493791, -0.00155534],\n",
       "       [ 0.01233307,  0.00024596]])"
      ]
     },
     "execution_count": 22,
     "metadata": {},
     "output_type": "execute_result"
    }
   ],
   "source": [
    "df_rets = d_data['close'].copy()\n",
    "df_rets = df_rets.fillna(method='ffill')\n",
    "df_rets = df_rets.fillna(method='bfill')\n",
    "\n",
    "na_rets = df_rets.values\n",
    "tsu.returnize0(na_rets)"
   ]
  },
  {
   "cell_type": "code",
   "execution_count": 23,
   "metadata": {
    "collapsed": true
   },
   "outputs": [],
   "source": [
    "na_portrets = np.sum(na_rets * lf_port_alloc, axis=1)\n",
    "na_port_total = np.cumprod(na_portrets + 1)"
   ]
  },
  {
   "cell_type": "code",
   "execution_count": 24,
   "metadata": {
    "collapsed": true
   },
   "outputs": [],
   "source": [
    "na_component_total = np.cumprod(na_rets + 1, axis=0)"
   ]
  },
  {
   "cell_type": "markdown",
   "metadata": {},
   "source": [
    "That's it for the \"back test.\" porttot contains the total returns for our combined portfolio."
   ]
  },
  {
   "cell_type": "markdown",
   "metadata": {},
   "source": [
    "## Plotting the results"
   ]
  },
  {
   "cell_type": "code",
   "execution_count": 26,
   "metadata": {
    "collapsed": false
   },
   "outputs": [
    {
     "data": {
      "text/plain": [
       "<matplotlib.figure.Figure at 0x10bc84d50>"
      ]
     },
     "metadata": {},
     "output_type": "display_data"
    },
    {
     "data": {
      "image/png": "[encoded data removed]",
      "text/plain": [
       "<matplotlib.figure.Figure at 0x10bc84e10>"
      ]
     },
     "metadata": {},
     "output_type": "display_data"
    }
   ],
   "source": [
    "%matplotlib inline\n",
    "plt.clf()\n",
    "fig = plt.figure()\n",
    "fig.add_subplot(111)\n",
    "plt.plot(ldt_timestamps, na_component_total, alpha=0.4)\n",
    "plt.plot(ldt_timestamps, na_port_total)\n",
    "ls_names = ls_port_syms\n",
    "ls_names.append('Portfolio')\n",
    "plt.legend(ls_names)\n",
    "plt.ylabel('Cumulative Returns')\n",
    "plt.xlabel('Date')\n",
    "fig.autofmt_xdate(rotation=45)\n",
    "plt.savefig('tutorial3.pdf', format='pdf')"
   ]
  },
  {
   "cell_type": "code",
   "execution_count": null,
   "metadata": {
    "collapsed": true
   },
   "outputs": [],
   "source": []
  }
 ],
 "metadata": {
  "kernelspec": {
   "display_name": "Python 2",
   "language": "python",
   "name": "python2"
  },
  "language_info": {
   "codemirror_mode": {
    "name": "ipython",
    "version": 2
   },
   "file_extension": ".py",
   "mimetype": "text/x-python",
   "name": "python",
   "nbconvert_exporter": "python",
   "pygments_lexer": "ipython2",
   "version": "2.7.10"
  }
 },
 "nbformat": 4,
 "nbformat_minor": 0
}
