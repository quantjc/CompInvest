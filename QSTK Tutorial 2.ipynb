{
 "cells": [
  {
   "cell_type": "markdown",
   "metadata": {},
   "source": [
    "# Working with CSV Data\n"
   ]
  },
  {
   "cell_type": "markdown",
   "metadata": {},
   "source": [
    "## The Data\n",
    "The data used is coming from QSTK/Examples/Basic/example-data.csv"
   ]
  },
  {
   "cell_type": "code",
   "execution_count": 1,
   "metadata": {
    "collapsed": true
   },
   "outputs": [],
   "source": [
    "%matplotlib inline\n",
    "import datetime as dt\n",
    "import matplotlib.pyplot as plt\n",
    "import pandas as pd\n",
    "import numpy as np"
   ]
  },
  {
   "cell_type": "code",
   "execution_count": 2,
   "metadata": {
    "collapsed": true
   },
   "outputs": [],
   "source": [
    "# Now start with code read in the data and divide it up.\n",
    "na_data = np.loadtxt('example-data.csv', delimiter=',', skiprows=1)"
   ]
  },
  {
   "cell_type": "code",
   "execution_count": 5,
   "metadata": {
    "collapsed": false
   },
   "outputs": [],
   "source": [
    "na_price = na_data[:, 3:]\n",
    "na_dates = np.int_(na_data[:, 0:3])\n",
    "ls_symbols = ['$SPX', 'XOM', 'GOOG', 'GLD']"
   ]
  },
  {
   "cell_type": "code",
   "execution_count": 6,
   "metadata": {
    "collapsed": false
   },
   "outputs": [
    {
     "name": "stdout",
     "output_type": "stream",
     "text": [
      "First 5 rows of Price Data:\n",
      "[[ 137.67   87.81  685.19   84.86]\n",
      " [ 137.6    88.11  685.33   85.57]\n",
      " [ 134.23   86.47  657.     85.13]\n",
      " [ 134.11   85.66  649.25   84.77]\n",
      " [ 131.95   84.56  631.68   86.78]]\n",
      "First 5 rows of Dates:\n",
      "[[2008    1    2]\n",
      " [2008    1    3]\n",
      " [2008    1    4]\n",
      " [2008    1    7]\n",
      " [2008    1    8]]\n"
     ]
    }
   ],
   "source": [
    "print 'First 5 rows of Price Data:'\n",
    "print na_price[:5, :]\n",
    "print 'First 5 rows of Dates:'\n",
    "print na_dates[:5, :]"
   ]
  },
  {
   "cell_type": "markdown",
   "metadata": {},
   "source": [
    "## Plotting the Data"
   ]
  },
  {
   "cell_type": "code",
   "execution_count": null,
   "metadata": {
    "collapsed": true
   },
   "outputs": [],
   "source": []
  }
 ],
 "metadata": {
  "kernelspec": {
   "display_name": "Python 2",
   "language": "python",
   "name": "python2"
  },
  "language_info": {
   "codemirror_mode": {
    "name": "ipython",
    "version": 2
   },
   "file_extension": ".py",
   "mimetype": "text/x-python",
   "name": "python",
   "nbconvert_exporter": "python",
   "pygments_lexer": "ipython2",
   "version": "2.7.10"
  }
 },
 "nbformat": 4,
 "nbformat_minor": 0
}
