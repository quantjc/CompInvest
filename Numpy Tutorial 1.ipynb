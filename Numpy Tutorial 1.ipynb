{
 "cells": [
  {
   "cell_type": "markdown",
   "metadata": {},
   "source": [
    "Adopting the QSTK Numpy tutorials in the iPython\n",
    "\n",
    "The actual Python tutorial can be found here:\n",
    "http://wiki.quantsoftware.org/index.php?title=Numpy_Tutorial_1"
   ]
  },
  {
   "cell_type": "code",
   "execution_count": 19,
   "metadata": {
    "collapsed": false
   },
   "outputs": [
    {
     "name": "stdout",
     "output_type": "stream",
     "text": [
      "Importing Numpy\n"
     ]
    }
   ],
   "source": [
    "print 'Importing Numpy'\n",
    "import numpy as np"
   ]
  },
  {
   "cell_type": "markdown",
   "metadata": {},
   "source": [
    "By convention we load the Numpy library and lets us refer to it by \"np\""
   ]
  },
  {
   "cell_type": "code",
   "execution_count": 20,
   "metadata": {
    "collapsed": false
   },
   "outputs": [
    {
     "name": "stdout",
     "output_type": "stream",
     "text": [
      "Creating Arrays...\n",
      "[[ 0.  0.  0.]\n",
      " [ 0.  0.  0.]]\n"
     ]
    }
   ],
   "source": [
    "print 'Creating Arrays...'\n",
    "# Making arrays in several diffent ways:\n",
    "zeroArray = np.zeros( (2, 3))\n",
    "print zeroArray"
   ]
  },
  {
   "cell_type": "code",
   "execution_count": 21,
   "metadata": {
    "collapsed": false
   },
   "outputs": [
    {
     "name": "stdout",
     "output_type": "stream",
     "text": [
      "[[ 1.  1.  1.]\n",
      " [ 1.  1.  1.]]\n"
     ]
    }
   ],
   "source": [
    "# or array of ones:\n",
    "oneArray = np.ones( (2, 3) )\n",
    "print oneArray"
   ]
  },
  {
   "cell_type": "code",
   "execution_count": 22,
   "metadata": {
    "collapsed": false
   },
   "outputs": [
    {
     "name": "stdout",
     "output_type": "stream",
     "text": [
      "[[ 0.  0.  0.]\n",
      " [ 0.  0.  0.]]\n"
     ]
    }
   ],
   "source": [
    "# Or filled with junk:\n",
    "emptyArray = np.empty( (2,3))\n",
    "print emptyArray"
   ]
  },
  {
   "cell_type": "code",
   "execution_count": 23,
   "metadata": {
    "collapsed": false
   },
   "outputs": [
    {
     "data": {
      "text/plain": [
       "array([[ 0.35208989,  0.55905535,  0.13882949],\n",
       "       [ 0.91915469,  0.39703876,  0.48983442]])"
      ]
     },
     "execution_count": 23,
     "metadata": {},
     "output_type": "execute_result"
    }
   ],
   "source": [
    "# Create a random array: [0,1]\n",
    "randomArray = np.random.random( (2,3))\n",
    "randomArray"
   ]
  },
  {
   "cell_type": "code",
   "execution_count": 24,
   "metadata": {
    "collapsed": false
   },
   "outputs": [
    {
     "name": "stdout",
     "output_type": "stream",
     "text": [
      "[[1, 2, 3], [4, 5, 6]]\n"
     ]
    }
   ],
   "source": [
    "# Create an array by handL\n",
    "foo = [[1,2,3],\n",
    "      [4,5,6]]\n",
    "print foo"
   ]
  },
  {
   "cell_type": "code",
   "execution_count": 25,
   "metadata": {
    "collapsed": false
   },
   "outputs": [
    {
     "name": "stdout",
     "output_type": "stream",
     "text": [
      "[[1 2 3]\n",
      " [4 5 6]]\n"
     ]
    }
   ],
   "source": [
    "myArray = np.array(foo)\n",
    "print myArray"
   ]
  },
  {
   "cell_type": "code",
   "execution_count": 26,
   "metadata": {
    "collapsed": false
   },
   "outputs": [
    {
     "name": "stdout",
     "output_type": "stream",
     "text": [
      "Reshaping Arrays\n"
     ]
    }
   ],
   "source": [
    "print \"Reshaping Arrays\""
   ]
  },
  {
   "cell_type": "code",
   "execution_count": 27,
   "metadata": {
    "collapsed": false
   },
   "outputs": [
    {
     "name": "stdout",
     "output_type": "stream",
     "text": [
      "[[ 6  7  8]\n",
      " [ 9 10 11]]\n"
     ]
    }
   ],
   "source": [
    "rangeArray = np.arange(6, 12).reshape( (2,3))\n",
    "print rangeArray"
   ]
  },
  {
   "cell_type": "code",
   "execution_count": 28,
   "metadata": {
    "collapsed": false
   },
   "outputs": [
    {
     "name": "stdout",
     "output_type": "stream",
     "text": [
      "[ 6  7  8  9 10 11]\n"
     ]
    }
   ],
   "source": [
    "print np.arange(6,12)"
   ]
  },
  {
   "cell_type": "code",
   "execution_count": 29,
   "metadata": {
    "collapsed": false
   },
   "outputs": [
    {
     "name": "stdout",
     "output_type": "stream",
     "text": [
      "[[ 6  7]\n",
      " [ 8  9]\n",
      " [10 11]]\n"
     ]
    }
   ],
   "source": [
    "# the reshape method takes the data in an existing array, and stuffs it into\n",
    "# an array with the given shape and returns it. \n",
    "\n",
    "print rangeArray.reshape( (3,2))"
   ]
  },
  {
   "cell_type": "code",
   "execution_count": 30,
   "metadata": {
    "collapsed": false
   },
   "outputs": [
    {
     "name": "stdout",
     "output_type": "stream",
     "text": [
      "[[ 6  7  8]\n",
      " [ 9 10 11]]\n"
     ]
    }
   ],
   "source": [
    "# The original array does not change:\n",
    "print rangeArray"
   ]
  },
  {
   "cell_type": "code",
   "execution_count": 31,
   "metadata": {
    "collapsed": false
   },
   "outputs": [
    {
     "data": {
      "text/plain": [
       "array([[1, 2, 3],\n",
       "       [4, 5, 6],\n",
       "       [7, 8, 9]])"
      ]
     },
     "execution_count": 31,
     "metadata": {},
     "output_type": "execute_result"
    }
   ],
   "source": [
    "squareArray = np.arange(1,10).reshape((3,3))\n",
    "squareArray"
   ]
  },
  {
   "cell_type": "code",
   "execution_count": 32,
   "metadata": {
    "collapsed": false
   },
   "outputs": [
    {
     "name": "stdout",
     "output_type": "stream",
     "text": [
      "Accessing array elements...\n"
     ]
    }
   ],
   "source": [
    "print 'Accessing array elements...'"
   ]
  },
  {
   "cell_type": "code",
   "execution_count": 33,
   "metadata": {
    "collapsed": false
   },
   "outputs": [
    {
     "name": "stdout",
     "output_type": "stream",
     "text": [
      "7\n"
     ]
    }
   ],
   "source": [
    "# Accessing an array is also pretty straight forward. You access a specific\n",
    "# spot in the table by referring to its row and column inside square braces\n",
    "# after the array:\n",
    "print rangeArray[0,1]"
   ]
  },
  {
   "cell_type": "code",
   "execution_count": 34,
   "metadata": {
    "collapsed": false
   },
   "outputs": [
    {
     "name": "stdout",
     "output_type": "stream",
     "text": [
      "[6 7]\n"
     ]
    }
   ],
   "source": [
    "# Note that row and column numbers start from 0, not 1! Numpy also lets you \n",
    "# refer to ranges inside an array:\n",
    "print rangeArray[0, 0:2]"
   ]
  },
  {
   "cell_type": "code",
   "execution_count": 35,
   "metadata": {
    "collapsed": false
   },
   "outputs": [
    {
     "name": "stdout",
     "output_type": "stream",
     "text": [
      "[[1 2]\n",
      " [4 5]]\n"
     ]
    }
   ],
   "source": [
    "print squareArray[0:2,0:2]"
   ]
  },
  {
   "cell_type": "code",
   "execution_count": 37,
   "metadata": {
    "collapsed": false
   },
   "outputs": [
    {
     "name": "stdout",
     "output_type": "stream",
     "text": [
      "[[1 2 3]\n",
      " [4 0 6]\n",
      " [1 1 1]]\n"
     ]
    }
   ],
   "source": [
    "# Like python lists, you can assign values to specific positions, or ranges of values to slices\n",
    "squareArray[0,:] = np.array(range(1,4))   # set the first row to 1,2,3\n",
    "squareArray[1,1] = 0                      # set the middle spot to zero\n",
    "squareArray[2,:] = 1                      # set the last row to ones\n",
    "print squareArray\n"
   ]
  },
  {
   "cell_type": "code",
   "execution_count": 41,
   "metadata": {
    "collapsed": false
   },
   "outputs": [
    {
     "name": "stdout",
     "output_type": "stream",
     "text": [
      "[[ 0.7811252 ]\n",
      " [ 0.25627124]\n",
      " [ 0.69910686]\n",
      " [ 0.00705201]\n",
      " [ 0.90503387]\n",
      " [ 0.20824813]\n",
      " [ 0.08794306]\n",
      " [ 0.39344388]\n",
      " [ 0.65402107]\n",
      " [ 0.15499992]]\n",
      "[[ 0.25627124]\n",
      " [ 0.25627124]\n",
      " [ 0.69910686]\n",
      " [ 0.00705201]]\n"
     ]
    }
   ],
   "source": [
    "# Something new to numpy arrays is indexing using an array of indices:\n",
    "fibIndices = np.array([1, 1, 2, 3])\n",
    "randomRow = np.random.random((10,1)) # an array of 10 random numbers\n",
    "print randomRow\n",
    "print randomRow[fibIndices] # the first, first, second and third element of randomRow"
   ]
  },
  {
   "cell_type": "code",
   "execution_count": 42,
   "metadata": {
    "collapsed": false
   },
   "outputs": [
    {
     "name": "stdout",
     "output_type": "stream",
     "text": [
      "[1 3 0 1 1]\n"
     ]
    }
   ],
   "source": [
    "# You can also use an array of true/false values to index:\n",
    "boolIndices = np.array( [[ True, False,  True],\n",
    "                          [False,  True, False],\n",
    "                          [ True, False,  True]] )\n",
    "print squareArray[boolIndices]"
   ]
  },
  {
   "cell_type": "code",
   "execution_count": 43,
   "metadata": {
    "collapsed": false
   },
   "outputs": [
    {
     "name": "stdout",
     "output_type": "stream",
     "text": [
      "[[1 3]\n",
      " [1 1]]\n"
     ]
    }
   ],
   "source": [
    "# It gets a little more complicated with 2D (and higher) arrays.  You need\n",
    "# two index arrays for a 2D array:\n",
    "rows = np.array( [[0,0],[2,2]] ) #get the corners of our square array\n",
    "cols = np.array( [[0,2],[0,2]] )\n",
    "print squareArray[rows,cols]"
   ]
  },
  {
   "cell_type": "code",
   "execution_count": 44,
   "metadata": {
    "collapsed": false
   },
   "outputs": [
    {
     "name": "stdout",
     "output_type": "stream",
     "text": [
      "[4 6]\n"
     ]
    }
   ],
   "source": [
    "boolRows = np.array( [False, True, False] ) # just the middle row\n",
    "boolCols = np.array( [True, False, True] )  # Not the middle column\n",
    "print squareArray[boolRows,boolCols]        # [4 6]"
   ]
  },
  {
   "cell_type": "code",
   "execution_count": 45,
   "metadata": {
    "collapsed": false
   },
   "outputs": [
    {
     "name": "stdout",
     "output_type": "stream",
     "text": [
      "Operations on arrays...\n"
     ]
    }
   ],
   "source": [
    "print 'Operations on arrays...'"
   ]
  },
  {
   "cell_type": "code",
   "execution_count": 46,
   "metadata": {
    "collapsed": true
   },
   "outputs": [],
   "source": [
    "sqAverage = np.average(squareArray)"
   ]
  },
  {
   "cell_type": "code",
   "execution_count": 48,
   "metadata": {
    "collapsed": false
   },
   "outputs": [
    {
     "name": "stdout",
     "output_type": "stream",
     "text": [
      "[3 4 6]\n"
     ]
    }
   ],
   "source": [
    "betterThanAverage = squareArray > sqAverage\n",
    "print squareArray[betterThanAverage]"
   ]
  },
  {
   "cell_type": "code",
   "execution_count": 52,
   "metadata": {
    "collapsed": true
   },
   "outputs": [],
   "source": [
    "# Indexing like this can also be used to assign values to elements of the\n",
    "# array. This is particularly useful if you want to filter an array, say by \n",
    "# making sure that all of its values are above/below a certain threshold:\n",
    "\n",
    "sqStdDev = np.std(squareArray) # returns the standard deviation of all the elements in the fiven array\n",
    "    "
   ]
  },
  {
   "cell_type": "code",
   "execution_count": 53,
   "metadata": {
    "collapsed": true
   },
   "outputs": [],
   "source": [
    "clampedSqArray = np.array(squareArray.copy(), dtype=float)\n",
    "\n",
    "                                    # make a copy of squareArray that will\n",
    "                                    # be \"clamped\". It will only contain\n",
    "                                    # values within one standard deviation\n",
    "                                    # of the mean. Values that are too low\n",
    "                                    # or to high will be set to the min\n",
    "                                    # and max respectively. We set \n",
    "                                    # dtype=float because sqAverage\n",
    "                                    # and sqStdDev are floating point\n",
    "                                    # numbers, and we don't want to \n",
    "                                    # truncate them down to integers."
   ]
  },
  {
   "cell_type": "code",
   "execution_count": 54,
   "metadata": {
    "collapsed": false
   },
   "outputs": [
    {
     "name": "stdout",
     "output_type": "stream",
     "text": [
      "[[ 1.          2.          3.        ]\n",
      " [ 3.90272394  0.31949828  3.90272394]\n",
      " [ 1.          1.          1.        ]]\n"
     ]
    }
   ],
   "source": [
    "clampedSqArray[ (squareArray-sqAverage) > sqStdDev ] = sqAverage+sqStdDev\n",
    "clampedSqArray[ (squareArray-sqAverage) < -sqStdDev ] = sqAverage-sqStdDev\n",
    "print clampedSqArray"
   ]
  },
  {
   "cell_type": "code",
   "execution_count": 55,
   "metadata": {
    "collapsed": false
   },
   "outputs": [
    {
     "name": "stdout",
     "output_type": "stream",
     "text": [
      "[[ 2  4  6]\n",
      " [ 8  0 12]\n",
      " [ 2  2  2]]\n"
     ]
    }
   ],
   "source": [
    "# Multiplying and dividing arrays by numbers does what you'd expect. It\n",
    "# multiples/divides element-wise\n",
    "print squareArray * 2"
   ]
  },
  {
   "cell_type": "code",
   "execution_count": 56,
   "metadata": {
    "collapsed": false
   },
   "outputs": [
    {
     "name": "stdout",
     "output_type": "stream",
     "text": [
      "[[ 2.  3.  4.]\n",
      " [ 5.  1.  7.]\n",
      " [ 2.  2.  2.]]\n"
     ]
    }
   ],
   "source": [
    "# Addition works similarly:\n",
    "print squareArray + np.ones( (3,3) )"
   ]
  },
  {
   "cell_type": "code",
   "execution_count": 57,
   "metadata": {
    "collapsed": false
   },
   "outputs": [
    {
     "name": "stdout",
     "output_type": "stream",
     "text": [
      "[[ 1  4  9]\n",
      " [16  0 36]\n",
      " [ 7  8  9]]\n"
     ]
    }
   ],
   "source": [
    "# Multiplying two arrays together (of the same size) is also element wise\n",
    "print squareArray * np.arange(1,10).reshape( (3,3) )"
   ]
  },
  {
   "cell_type": "code",
   "execution_count": null,
   "metadata": {
    "collapsed": true
   },
   "outputs": [],
   "source": [
    "# Unless you use the dot(...) function, which does matrix multiplication\n",
    "# from linear algebra:\n",
    "matA = np.array( [[1,2],[3,4]] )\n",
    "matB = np.array( [[5,6],[7,8]] )\n",
    "print np.dot(matA,matB)"
   ]
  }
 ],
 "metadata": {
  "kernelspec": {
   "display_name": "Python 2",
   "language": "python",
   "name": "python2"
  },
  "language_info": {
   "codemirror_mode": {
    "name": "ipython",
    "version": 2
   },
   "file_extension": ".py",
   "mimetype": "text/x-python",
   "name": "python",
   "nbconvert_exporter": "python",
   "pygments_lexer": "ipython2",
   "version": "2.7.10"
  }
 },
 "nbformat": 4,
 "nbformat_minor": 0
}
