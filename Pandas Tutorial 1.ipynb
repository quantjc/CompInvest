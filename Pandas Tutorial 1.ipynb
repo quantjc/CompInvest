{
 "cells": [
  {
   "cell_type": "markdown",
   "metadata": {},
   "source": [
    "Tutorial on using Pandas in QSTK from:\n",
    "        http://wiki.quantsoftware.org/index.php?title=Pandas_Tutorial\n",
    "        "
   ]
  },
  {
   "cell_type": "code",
   "execution_count": 2,
   "metadata": {
    "collapsed": false
   },
   "outputs": [],
   "source": [
    "import pandas as pd\n",
    "import datetime as dt\n",
    "import numpy as np"
   ]
  },
  {
   "cell_type": "code",
   "execution_count": 6,
   "metadata": {
    "collapsed": true
   },
   "outputs": [],
   "source": [
    "ldt_timestamps = []"
   ]
  },
  {
   "cell_type": "code",
   "execution_count": 7,
   "metadata": {
    "collapsed": true
   },
   "outputs": [],
   "source": [
    "for i in range (1, 6):\n",
    "    ldt_timestamps.append(dt.datetime(2011, 1, i, 16))"
   ]
  },
  {
   "cell_type": "code",
   "execution_count": 8,
   "metadata": {
    "collapsed": false
   },
   "outputs": [
    {
     "name": "stdout",
     "output_type": "stream",
     "text": [
      "The index we created has the following dates: \n",
      "[datetime.datetime(2011, 1, 1, 16, 0), datetime.datetime(2011, 1, 2, 16, 0), datetime.datetime(2011, 1, 3, 16, 0), datetime.datetime(2011, 1, 4, 16, 0), datetime.datetime(2011, 1, 5, 16, 0)]\n",
      "\n"
     ]
    }
   ],
   "source": [
    "print \"The index we created has the following dates: \"\n",
    "print ldt_timestamps\n",
    "print"
   ]
  },
  {
   "cell_type": "code",
   "execution_count": 10,
   "metadata": {
    "collapsed": false
   },
   "outputs": [
    {
     "name": "stdout",
     "output_type": "stream",
     "text": [
      "A timeseries initialized to one single value: \n"
     ]
    }
   ],
   "source": [
    "# Time Series\n",
    "ts_single_value = pd.TimeSeries(0.0, index = ldt_timestamps)\n",
    "print \"A timeseries initialized to one single value: \""
   ]
  },
  {
   "cell_type": "code",
   "execution_count": 14,
   "metadata": {
    "collapsed": false
   },
   "outputs": [
    {
     "name": "stdout",
     "output_type": "stream",
     "text": [
      "Dummy initialized array: \n",
      "[0 1 2 3 4]\n",
      "\n"
     ]
    }
   ],
   "source": [
    "na_vals = np.arange(len(ldt_timestamps))\n",
    "print \"Dummy initialized array: \"\n",
    "print na_vals\n",
    "print"
   ]
  },
  {
   "cell_type": "code",
   "execution_count": 15,
   "metadata": {
    "collapsed": false
   },
   "outputs": [
    {
     "name": "stdout",
     "output_type": "stream",
     "text": [
      "A timeseries initialized using a numpy array : \n",
      "2011-01-01 16:00:00    0\n",
      "2011-01-02 16:00:00    1\n",
      "2011-01-03 16:00:00    2\n",
      "2011-01-04 16:00:00    3\n",
      "2011-01-05 16:00:00    4\n",
      "dtype: int64\n",
      "\n"
     ]
    }
   ],
   "source": [
    "ts_array = pd.TimeSeries(na_vals, index = ldt_timestamps)\n",
    "print \"A timeseries initialized using a numpy array : \"\n",
    "print ts_array\n",
    "print "
   ]
  },
  {
   "cell_type": "code",
   "execution_count": 16,
   "metadata": {
    "collapsed": false
   },
   "outputs": [
    {
     "name": "stdout",
     "output_type": "stream",
     "text": [
      "Reading the timeseries for a particular date\n",
      "Date :   2011-01-02 16:00:00\n",
      "Value :  1\n",
      "\n"
     ]
    }
   ],
   "source": [
    "print \"Reading the timeseries for a particular date\"\n",
    "print \"Date :  \", ldt_timestamps[1]\n",
    "print \"Value : \", ts_array[ldt_timestamps[1]]\n",
    "print"
   ]
  },
  {
   "cell_type": "code",
   "execution_count": 17,
   "metadata": {
    "collapsed": false
   },
   "outputs": [
    {
     "name": "stdout",
     "output_type": "stream",
     "text": [
      "Initializing a list of symbols : \n",
      "['AAPL', 'GOOG', 'MSFT', 'IBM']\n",
      "\n"
     ]
    }
   ],
   "source": [
    "# DataFrames\n",
    "print \"Initializing a list of symbols : \"\n",
    "ls_symbols = ['AAPL', 'GOOG', 'MSFT', 'IBM']\n",
    "print ls_symbols\n",
    "print"
   ]
  },
  {
   "cell_type": "code",
   "execution_count": 18,
   "metadata": {
    "collapsed": false
   },
   "outputs": [
    {
     "name": "stdout",
     "output_type": "stream",
     "text": [
      "Initializing a dataframe with one value : \n",
      "                     AAPL  GOOG  MSFT  IBM\n",
      "2011-01-01 16:00:00     0     0     0    0\n",
      "2011-01-02 16:00:00     0     0     0    0\n",
      "2011-01-03 16:00:00     0     0     0    0\n",
      "2011-01-04 16:00:00     0     0     0    0\n",
      "2011-01-05 16:00:00     0     0     0    0\n",
      "\n"
     ]
    }
   ],
   "source": [
    "print \"Initializing a dataframe with one value : \"\n",
    "df_single = pd.DataFrame(index=ldt_timestamps, columns=ls_symbols)\n",
    "df_single = df_single.fillna(0.0)\n",
    "print df_single\n",
    "print"
   ]
  },
  {
   "cell_type": "code",
   "execution_count": 19,
   "metadata": {
    "collapsed": false
   },
   "outputs": [
    {
     "name": "stdout",
     "output_type": "stream",
     "text": [
      "Initializing a dataframe with a numpy array : \n",
      "                         AAPL      GOOG      MSFT       IBM\n",
      "2011-01-01 16:00:00 -0.254609  1.060147 -1.014191 -0.531283\n",
      "2011-01-02 16:00:00  0.901625 -1.477538  1.109155  0.602735\n",
      "2011-01-03 16:00:00  0.624901 -0.623859 -1.235216  0.135858\n",
      "2011-01-04 16:00:00  1.487187 -0.501369 -0.455862 -0.412969\n",
      "2011-01-05 16:00:00  0.430831  0.647976 -1.352059 -0.290644\n",
      "\n"
     ]
    }
   ],
   "source": [
    "print \"Initializing a dataframe with a numpy array : \"\n",
    "na_vals_2 = np.random.randn(len(ldt_timestamps), len(ls_symbols))\n",
    "df_vals = pd.DataFrame(na_vals_2, index=ldt_timestamps, columns=ls_symbols)\n",
    "print df_vals\n",
    "print "
   ]
  },
  {
   "cell_type": "code",
   "execution_count": 20,
   "metadata": {
    "collapsed": false
   },
   "outputs": [
    {
     "name": "stdout",
     "output_type": "stream",
     "text": [
      "Access the timeseries of a particular symbol : \n",
      "2011-01-01 16:00:00    1.060147\n",
      "2011-01-02 16:00:00   -1.477538\n",
      "2011-01-03 16:00:00   -0.623859\n",
      "2011-01-04 16:00:00   -0.501369\n",
      "2011-01-05 16:00:00    0.647976\n",
      "Name: GOOG, dtype: float64\n",
      "\n"
     ]
    }
   ],
   "source": [
    "print \"Access the timeseries of a particular symbol : \"\n",
    "print df_vals[ls_symbols[1]]\n",
    "print\n"
   ]
  },
  {
   "cell_type": "code",
   "execution_count": 21,
   "metadata": {
    "collapsed": false
   },
   "outputs": [
    {
     "name": "stdout",
     "output_type": "stream",
     "text": [
      "Access the timeseries of a particular date : \n",
      "AAPL    0.901625\n",
      "GOOG   -1.477538\n",
      "MSFT    1.109155\n",
      "IBM     0.602735\n",
      "Name: 2011-01-02 16:00:00, dtype: float64\n",
      "\n"
     ]
    }
   ],
   "source": [
    "print \"Access the timeseries of a particular date : \"\n",
    "print df_vals.ix[ldt_timestamps[1]]\n",
    "print"
   ]
  },
  {
   "cell_type": "code",
   "execution_count": null,
   "metadata": {
    "collapsed": true
   },
   "outputs": [],
   "source": []
  }
 ],
 "metadata": {
  "kernelspec": {
   "display_name": "Python 2",
   "language": "python",
   "name": "python2"
  },
  "language_info": {
   "codemirror_mode": {
    "name": "ipython",
    "version": 2
   },
   "file_extension": ".py",
   "mimetype": "text/x-python",
   "name": "python",
   "nbconvert_exporter": "python",
   "pygments_lexer": "ipython2",
   "version": "2.7.10"
  }
 },
 "nbformat": 4,
 "nbformat_minor": 0
}
